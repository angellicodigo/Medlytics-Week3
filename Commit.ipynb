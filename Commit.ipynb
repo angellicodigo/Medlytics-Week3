{
 "cells": [
  {
   "cell_type": "code",
   "metadata": {
    "cell_id": "d961b8cc738b415e8e36269fb5bc9ba9",
    "tags": [],
    "owner_user_id": "621726e3-8134-49a7-876e-c70857c125a9",
    "deepnote_to_be_reexecuted": false,
    "source_hash": "41347acb",
    "execution_start": 1658942737141,
    "execution_millis": 136733,
    "deepnote_cell_type": "code",
    "deepnote_cell_height": 750
   },
   "source": "!git init\n!git add .\n!git commit -m \"Commit\"\n!git push origin main",
   "execution_count": null,
   "outputs": [
    {
     "name": "stdout",
     "text": "Reinitialized existing Git repository in /work/Week3/.git/\n[main 87d4482] Commit\n Committer: root <root@p-5ee8cc82-8725-4ae7-85ed-4564e6d848f2.projects-domain.projects.svc.cluster.local>\nYour name and email address were configured automatically based\non your username and hostname. Please check that they are accurate.\nYou can suppress this message by setting them explicitly. Run the\nfollowing command and follow the instructions in your editor to edit\nyour configuration file:\n\n    git config --global --edit\n\nAfter doing this, you may fix the identity used for this commit with:\n\n    git commit --amend --reset-author\n\n 10 files changed, 2610 insertions(+), 1784 deletions(-)\n rewrite 01_ImageFeaturesAndKMeansClustering/ImageFeaturesAndKmeansClustering_Exercises.ipynb (64%)\n rewrite 02_2DConvNets/2DConvNets_Exercises.ipynb (65%)\n create mode 100644 03_TransferLearning/crc_data/rgb01.npz\n create mode 100644 03_TransferLearning/crc_data/rgb02.npz\n create mode 100644 03_TransferLearning/crc_data/rgb03.npz\n create mode 100644 Commit.ipynb\nEnumerating objects: 22, done.\nCounting objects: 100% (22/22), done.\nDelta compression using up to 2 threads\nCompressing objects: 100% (16/16), done.\nWriting objects: 100% (16/16), 164.20 MiB | 2.03 MiB/s, done.\nTotal 16 (delta 3), reused 0 (delta 0)\nremote: Resolving deltas: 100% (3/3), completed with 3 local objects.\u001b[K\nremote: \u001b[1;33mwarning\u001b[m: See http://git.io/iEPt8g for more information.\u001b[K\nremote: \u001b[1;33mwarning\u001b[m: File 03_TransferLearning/crc_data/rgb01.npz is 64.38 MB; this is larger than GitHub's recommended maximum file size of 50.00 MB\u001b[K\nremote: \u001b[1;33mwarning\u001b[m: File 03_TransferLearning/crc_data/rgb02.npz is 64.38 MB; this is larger than GitHub's recommended maximum file size of 50.00 MB\u001b[K\nremote: \u001b[1;33mwarning\u001b[m: File 03_TransferLearning/crc_data/rgb03.npz is 53.53 MB; this is larger than GitHub's recommended maximum file size of 50.00 MB\u001b[K\nremote: \u001b[1;33mwarning\u001b[m: GH001: Large files detected. You may want to try Git Large File Storage - https://git-lfs.github.com.\u001b[K\nTo https://github.com/angellicodigo/Week3.git\n   18d8910..87d4482  main -> main\n",
     "output_type": "stream"
    }
   ]
  },
  {
   "cell_type": "markdown",
   "source": "<a style='text-decoration:none;line-height:16px;display:flex;color:#5B5B62;padding:10px;justify-content:end;' href='https://deepnote.com?utm_source=created-in-deepnote-cell&projectId=5ee8cc82-8725-4ae7-85ed-4564e6d848f2' target=\"_blank\">\n<img alt='Created in deepnote.com' style='display:inline;max-height:16px;margin:0px;margin-right:7.5px;' src='data:image/svg+xml;base64,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' > </img>\nCreated in <span style='font-weight:600;margin-left:4px;'>Deepnote</span></a>",
   "metadata": {
    "tags": [],
    "created_in_deepnote_cell": true,
    "deepnote_cell_type": "markdown"
   }
  }
 ],
 "nbformat": 4,
 "nbformat_minor": 2,
 "metadata": {
  "orig_nbformat": 2,
  "deepnote": {},
  "deepnote_notebook_id": "996049a4-1582-4473-8863-b0b5e9dc8a4d",
  "deepnote_execution_queue": []
 }
}